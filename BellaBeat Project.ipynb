{
 "cells": [
  {
   "cell_type": "markdown",
   "id": "759b6da1",
   "metadata": {},
   "source": [
    "# Introduction\n",
    "\n",
    "The Bellabeat market analysis is a capstone project for the Google Data Analytics Programme on Coursera.\n",
    "\n",
    "Bellabeat is a high-tech company that prides itself as ‘the go-to wellness brand for women with an ecosystem of products and services focused on women’s health’. They manufacture health-focused smart products that collect data on activity, sleep, stress and hydration levels as well as the reproductive health of women with the goal of empowering them with an understanding of their health and hitherto unknown habits.\n",
    "\n",
    "Since it was founded in 2013, Bellabeat has grown rapidly and quickly positioned itself as a tech-driven wellness company for women. By 2016, Bellabeat had opened offices around the world and launched multiple products. Bellabeat products became available through a growing number of online retailers in addition to their own e-commerce channel on their website. The company has invested in traditional advertising media, such as radio, out-of-home billboards, print, and television, but focuses on digital marketing extensively. Bellabeat invests year-round in Google Search, maintaining active Facebook and Instagram pages, and consistently engages consumers on Twitter. Additionally, Bellabeat runs video ads on Youtube and display ads on the Google Display Network to support campaigns around key marketing dates.\n",
    "\n",
    "### Products\n",
    "Bellabeat app: The Bellabeat app provides users with health data related to their activity, sleep, stress, menstrual cycle, and mindfulness habits. This data can help users better understand their current habits and make healthy decisions. The Bellabeat app connects to their line of smart wellness products.\n",
    "\n",
    "Leaf: Bellabeat’s classic wellness tracker can be worn as a bracelet, necklace, or clip. The Leaf tracker connects to the Bellabeat app to track activity, sleep, and stress.\n",
    "\n",
    "Time: This wellness watch combines the timeless look of a classic timepiece with smart technology to track user activity, sleep, and stress. The Time watch connects to the Bellabeat app to provide you with insights into your daily wellness.\n",
    "\n",
    "Spring: This is a water bottle that tracks daily water intake using smart technology to ensure that you are appropriately hydrated throughout the day. The Spring bottle connects to the Bellabeat app to track your hydration levels.\n",
    "\n",
    "Bellabeat membership: Bellabeat also offers a subscription-based membership program for users. Membership gives users 24/7 access to fully personalized guidance on nutrition, activity, sleep, health and beauty, and mindfulness based on their lifestyle and goals.\n",
    "\n",
    " \n",
    "\n",
    "It is envisaged that a focus on a Bellabeat products and the analysis of the FitBit Fitness Tracker Data will help key stakeholders at Bellabeat to gain insights into how people are already using their smart devices and reveal more opportunities for growth.\n",
    "\n",
    " \n",
    "\n",
    "In order to adequately analyze these data to answer the key business questions and make recommendations, I will follow the key steps of Data Analysis Process: Ask, Prepare, Process, Analyze, Share and Act"
   ]
  },
  {
   "cell_type": "markdown",
   "id": "dc15714c",
   "metadata": {},
   "source": [
    "# Ask\n",
    "\n",
    "### Business Task\n",
    "The aim of this analysis is to gain an insight into how customers use the Fitness aim and the functionality of the app. ALso, the trendline of users results to aid in recommendations for fitness goals would be considered.\n",
    "\n",
    "### Questions\n",
    "\n",
    "What are some trends in smart device usage?\n",
    "\n",
    "How could these trends apply to Bellabeat customers?\n",
    "\n",
    "How could these trends help influence Bellabeat marketing strategy?\n",
    "\n",
    " \n",
    "\n",
    "### Key Stakeholders:\n",
    "\n",
    "· Urška Sršen — Bellabeat’s co-founder and Chief Creative Officer\n",
    "\n",
    "· Sando Mur — Mathematician and Bellabeat’s co-founder;\n",
    "\n",
    "· Bellabeat marketing analytics team — A team of data analysts responsible for collecting, analyzing, and reporting data that helps guide Bellabeat’s marketing strategy."
   ]
  },
  {
   "cell_type": "markdown",
   "id": "b3595417",
   "metadata": {},
   "source": [
    "# Prepare"
   ]
  },
  {
   "cell_type": "markdown",
   "id": "a2d02532",
   "metadata": {},
   "source": [
    "This analysis is focused on the daily activities tracking and the effect on the users. Thus, the datasets used are;\n",
    "dailyActivity_merged;\n",
    "dailyCalories_merged;\n",
    "sleepDay_merged"
   ]
  },
  {
   "cell_type": "markdown",
   "id": "80f18272",
   "metadata": {},
   "source": [
    "### Data Source\n",
    "Urška Sršen approved the use of public data that explores smart device users’ daily habits. Therefore, the dataset used in this project will be the FitBit Fitness Tracker Data which is available on Kaggle.\n",
    "\n",
    "###  Data Assessment for credibility & integrity\n",
    "\n",
    "To determine the credibility, reliability and integrity of the dataset presented, I used the ROCCC (Reliable, Original, Comprehensive, Current & Cited) data test model.\n",
    "\n",
    "Reliability: (LOW) There were only 30 individuals involved in this survey. This is a very small sample size for making far-reaching analysis & recommendation for the required business task.\n",
    "\n",
    "Originality: (LOW) Data is sourced from a third-party survey by Amazon Mechanical Turk.\n",
    "\n",
    "Comprehensive: (MEDIUM) – Data is within the parameters required for the Bellabeat’s business task.\n",
    "\n",
    "Current: (LOW) The dataset was sourced back in 2016 (over 8 years ago) and covered a short period of March – May 2016. It is my opinion that this data is somewhat stale given the pace of better and improved health data tracking methods over the years. More so, a 2-month data collection window is so short for the highly dynamic data type.\n",
    "\n",
    "Cited: (MEDIUM) The third-party dataset was available by Mobius via Kaggle.import pandas as pd"
   ]
  },
  {
   "cell_type": "code",
   "execution_count": 43,
   "id": "7c373f65",
   "metadata": {},
   "outputs": [],
   "source": [
    "import numpy as np\n",
    "from IPython.display import Image\n",
    "import re\n",
    "import matplotlib.pyplot as plt\n",
    "import seaborn as sns\n",
    "%matplotlib inline"
   ]
  },
  {
   "cell_type": "markdown",
   "id": "b98d77a3",
   "metadata": {},
   "source": [
    "### Importing datasets"
   ]
  },
  {
   "cell_type": "code",
   "execution_count": 44,
   "id": "e87839de",
   "metadata": {},
   "outputs": [
    {
     "data": {
      "text/html": [
       "<div>\n",
       "<style scoped>\n",
       "    .dataframe tbody tr th:only-of-type {\n",
       "        vertical-align: middle;\n",
       "    }\n",
       "\n",
       "    .dataframe tbody tr th {\n",
       "        vertical-align: top;\n",
       "    }\n",
       "\n",
       "    .dataframe thead th {\n",
       "        text-align: right;\n",
       "    }\n",
       "</style>\n",
       "<table border=\"1\" class=\"dataframe\">\n",
       "  <thead>\n",
       "    <tr style=\"text-align: right;\">\n",
       "      <th></th>\n",
       "      <th>Id</th>\n",
       "      <th>ActivityDate</th>\n",
       "      <th>TotalSteps</th>\n",
       "      <th>TotalDistance</th>\n",
       "      <th>TrackerDistance</th>\n",
       "      <th>LoggedActivitiesDistance</th>\n",
       "      <th>VeryActiveDistance</th>\n",
       "      <th>ModeratelyActiveDistance</th>\n",
       "      <th>LightActiveDistance</th>\n",
       "      <th>SedentaryActiveDistance</th>\n",
       "      <th>VeryActiveMinutes</th>\n",
       "      <th>FairlyActiveMinutes</th>\n",
       "      <th>LightlyActiveMinutes</th>\n",
       "      <th>SedentaryMinutes</th>\n",
       "      <th>Calories</th>\n",
       "    </tr>\n",
       "  </thead>\n",
       "  <tbody>\n",
       "    <tr>\n",
       "      <th>0</th>\n",
       "      <td>1503960366</td>\n",
       "      <td>4/12/2016</td>\n",
       "      <td>13162</td>\n",
       "      <td>8.50</td>\n",
       "      <td>8.50</td>\n",
       "      <td>0.0</td>\n",
       "      <td>1.88</td>\n",
       "      <td>0.55</td>\n",
       "      <td>6.06</td>\n",
       "      <td>0.0</td>\n",
       "      <td>25</td>\n",
       "      <td>13</td>\n",
       "      <td>328</td>\n",
       "      <td>728</td>\n",
       "      <td>1985</td>\n",
       "    </tr>\n",
       "    <tr>\n",
       "      <th>1</th>\n",
       "      <td>1503960366</td>\n",
       "      <td>4/13/2016</td>\n",
       "      <td>10735</td>\n",
       "      <td>6.97</td>\n",
       "      <td>6.97</td>\n",
       "      <td>0.0</td>\n",
       "      <td>1.57</td>\n",
       "      <td>0.69</td>\n",
       "      <td>4.71</td>\n",
       "      <td>0.0</td>\n",
       "      <td>21</td>\n",
       "      <td>19</td>\n",
       "      <td>217</td>\n",
       "      <td>776</td>\n",
       "      <td>1797</td>\n",
       "    </tr>\n",
       "    <tr>\n",
       "      <th>2</th>\n",
       "      <td>1503960366</td>\n",
       "      <td>4/14/2016</td>\n",
       "      <td>10460</td>\n",
       "      <td>6.74</td>\n",
       "      <td>6.74</td>\n",
       "      <td>0.0</td>\n",
       "      <td>2.44</td>\n",
       "      <td>0.40</td>\n",
       "      <td>3.91</td>\n",
       "      <td>0.0</td>\n",
       "      <td>30</td>\n",
       "      <td>11</td>\n",
       "      <td>181</td>\n",
       "      <td>1218</td>\n",
       "      <td>1776</td>\n",
       "    </tr>\n",
       "    <tr>\n",
       "      <th>3</th>\n",
       "      <td>1503960366</td>\n",
       "      <td>4/15/2016</td>\n",
       "      <td>9762</td>\n",
       "      <td>6.28</td>\n",
       "      <td>6.28</td>\n",
       "      <td>0.0</td>\n",
       "      <td>2.14</td>\n",
       "      <td>1.26</td>\n",
       "      <td>2.83</td>\n",
       "      <td>0.0</td>\n",
       "      <td>29</td>\n",
       "      <td>34</td>\n",
       "      <td>209</td>\n",
       "      <td>726</td>\n",
       "      <td>1745</td>\n",
       "    </tr>\n",
       "    <tr>\n",
       "      <th>4</th>\n",
       "      <td>1503960366</td>\n",
       "      <td>4/16/2016</td>\n",
       "      <td>12669</td>\n",
       "      <td>8.16</td>\n",
       "      <td>8.16</td>\n",
       "      <td>0.0</td>\n",
       "      <td>2.71</td>\n",
       "      <td>0.41</td>\n",
       "      <td>5.04</td>\n",
       "      <td>0.0</td>\n",
       "      <td>36</td>\n",
       "      <td>10</td>\n",
       "      <td>221</td>\n",
       "      <td>773</td>\n",
       "      <td>1863</td>\n",
       "    </tr>\n",
       "  </tbody>\n",
       "</table>\n",
       "</div>"
      ],
      "text/plain": [
       "           Id ActivityDate  TotalSteps  TotalDistance  TrackerDistance  \\\n",
       "0  1503960366    4/12/2016       13162           8.50             8.50   \n",
       "1  1503960366    4/13/2016       10735           6.97             6.97   \n",
       "2  1503960366    4/14/2016       10460           6.74             6.74   \n",
       "3  1503960366    4/15/2016        9762           6.28             6.28   \n",
       "4  1503960366    4/16/2016       12669           8.16             8.16   \n",
       "\n",
       "   LoggedActivitiesDistance  VeryActiveDistance  ModeratelyActiveDistance  \\\n",
       "0                       0.0                1.88                      0.55   \n",
       "1                       0.0                1.57                      0.69   \n",
       "2                       0.0                2.44                      0.40   \n",
       "3                       0.0                2.14                      1.26   \n",
       "4                       0.0                2.71                      0.41   \n",
       "\n",
       "   LightActiveDistance  SedentaryActiveDistance  VeryActiveMinutes  \\\n",
       "0                 6.06                      0.0                 25   \n",
       "1                 4.71                      0.0                 21   \n",
       "2                 3.91                      0.0                 30   \n",
       "3                 2.83                      0.0                 29   \n",
       "4                 5.04                      0.0                 36   \n",
       "\n",
       "   FairlyActiveMinutes  LightlyActiveMinutes  SedentaryMinutes  Calories  \n",
       "0                   13                   328               728      1985  \n",
       "1                   19                   217               776      1797  \n",
       "2                   11                   181              1218      1776  \n",
       "3                   34                   209               726      1745  \n",
       "4                   10                   221               773      1863  "
      ]
     },
     "execution_count": 44,
     "metadata": {},
     "output_type": "execute_result"
    }
   ],
   "source": [
    "daily_activity = pd.read_csv(\"dailyActivity_merged.csv\")\n",
    "daily_activity.head()"
   ]
  },
  {
   "cell_type": "code",
   "execution_count": 45,
   "id": "9d3d5a32",
   "metadata": {},
   "outputs": [
    {
     "name": "stdout",
     "output_type": "stream",
     "text": [
      "<class 'pandas.core.frame.DataFrame'>\n",
      "RangeIndex: 940 entries, 0 to 939\n",
      "Data columns (total 15 columns):\n",
      " #   Column                    Non-Null Count  Dtype  \n",
      "---  ------                    --------------  -----  \n",
      " 0   Id                        940 non-null    int64  \n",
      " 1   ActivityDate              940 non-null    object \n",
      " 2   TotalSteps                940 non-null    int64  \n",
      " 3   TotalDistance             940 non-null    float64\n",
      " 4   TrackerDistance           940 non-null    float64\n",
      " 5   LoggedActivitiesDistance  940 non-null    float64\n",
      " 6   VeryActiveDistance        940 non-null    float64\n",
      " 7   ModeratelyActiveDistance  940 non-null    float64\n",
      " 8   LightActiveDistance       940 non-null    float64\n",
      " 9   SedentaryActiveDistance   940 non-null    float64\n",
      " 10  VeryActiveMinutes         940 non-null    int64  \n",
      " 11  FairlyActiveMinutes       940 non-null    int64  \n",
      " 12  LightlyActiveMinutes      940 non-null    int64  \n",
      " 13  SedentaryMinutes          940 non-null    int64  \n",
      " 14  Calories                  940 non-null    int64  \n",
      "dtypes: float64(7), int64(7), object(1)\n",
      "memory usage: 110.3+ KB\n"
     ]
    }
   ],
   "source": [
    "daily_activity.info()"
   ]
  },
  {
   "cell_type": "code",
   "execution_count": 46,
   "id": "37cebdb3",
   "metadata": {},
   "outputs": [],
   "source": [
    "daily_calories = pd.read_csv(\"dailyCalories_merged.csv\")\n"
   ]
  },
  {
   "cell_type": "code",
   "execution_count": 47,
   "id": "a851d757",
   "metadata": {},
   "outputs": [
    {
     "name": "stdout",
     "output_type": "stream",
     "text": [
      "<class 'pandas.core.frame.DataFrame'>\n",
      "RangeIndex: 940 entries, 0 to 939\n",
      "Data columns (total 3 columns):\n",
      " #   Column       Non-Null Count  Dtype \n",
      "---  ------       --------------  ----- \n",
      " 0   Id           940 non-null    int64 \n",
      " 1   ActivityDay  940 non-null    object\n",
      " 2   Calories     940 non-null    int64 \n",
      "dtypes: int64(2), object(1)\n",
      "memory usage: 22.2+ KB\n"
     ]
    }
   ],
   "source": [
    "daily_calories.info()"
   ]
  },
  {
   "cell_type": "code",
   "execution_count": 48,
   "id": "081b528f",
   "metadata": {},
   "outputs": [
    {
     "data": {
      "text/html": [
       "<div>\n",
       "<style scoped>\n",
       "    .dataframe tbody tr th:only-of-type {\n",
       "        vertical-align: middle;\n",
       "    }\n",
       "\n",
       "    .dataframe tbody tr th {\n",
       "        vertical-align: top;\n",
       "    }\n",
       "\n",
       "    .dataframe thead th {\n",
       "        text-align: right;\n",
       "    }\n",
       "</style>\n",
       "<table border=\"1\" class=\"dataframe\">\n",
       "  <thead>\n",
       "    <tr style=\"text-align: right;\">\n",
       "      <th></th>\n",
       "      <th>Id</th>\n",
       "      <th>SleepDay</th>\n",
       "      <th>TotalSleepRecords</th>\n",
       "      <th>TotalMinutesAsleep</th>\n",
       "      <th>TotalTimeInBed</th>\n",
       "    </tr>\n",
       "  </thead>\n",
       "  <tbody>\n",
       "    <tr>\n",
       "      <th>0</th>\n",
       "      <td>1503960366</td>\n",
       "      <td>4/12/2016 12:00:00 AM</td>\n",
       "      <td>1</td>\n",
       "      <td>327</td>\n",
       "      <td>346</td>\n",
       "    </tr>\n",
       "    <tr>\n",
       "      <th>1</th>\n",
       "      <td>1503960366</td>\n",
       "      <td>4/13/2016 12:00:00 AM</td>\n",
       "      <td>2</td>\n",
       "      <td>384</td>\n",
       "      <td>407</td>\n",
       "    </tr>\n",
       "    <tr>\n",
       "      <th>2</th>\n",
       "      <td>1503960366</td>\n",
       "      <td>4/15/2016 12:00:00 AM</td>\n",
       "      <td>1</td>\n",
       "      <td>412</td>\n",
       "      <td>442</td>\n",
       "    </tr>\n",
       "    <tr>\n",
       "      <th>3</th>\n",
       "      <td>1503960366</td>\n",
       "      <td>4/16/2016 12:00:00 AM</td>\n",
       "      <td>2</td>\n",
       "      <td>340</td>\n",
       "      <td>367</td>\n",
       "    </tr>\n",
       "    <tr>\n",
       "      <th>4</th>\n",
       "      <td>1503960366</td>\n",
       "      <td>4/17/2016 12:00:00 AM</td>\n",
       "      <td>1</td>\n",
       "      <td>700</td>\n",
       "      <td>712</td>\n",
       "    </tr>\n",
       "  </tbody>\n",
       "</table>\n",
       "</div>"
      ],
      "text/plain": [
       "           Id               SleepDay  TotalSleepRecords  TotalMinutesAsleep  \\\n",
       "0  1503960366  4/12/2016 12:00:00 AM                  1                 327   \n",
       "1  1503960366  4/13/2016 12:00:00 AM                  2                 384   \n",
       "2  1503960366  4/15/2016 12:00:00 AM                  1                 412   \n",
       "3  1503960366  4/16/2016 12:00:00 AM                  2                 340   \n",
       "4  1503960366  4/17/2016 12:00:00 AM                  1                 700   \n",
       "\n",
       "   TotalTimeInBed  \n",
       "0             346  \n",
       "1             407  \n",
       "2             442  \n",
       "3             367  \n",
       "4             712  "
      ]
     },
     "execution_count": 48,
     "metadata": {},
     "output_type": "execute_result"
    }
   ],
   "source": [
    "sleep_day = pd.read_csv(\"sleepDay_merged.csv\")\n",
    "sleep_day.head()"
   ]
  },
  {
   "cell_type": "code",
   "execution_count": 49,
   "id": "4b3827b3",
   "metadata": {},
   "outputs": [
    {
     "name": "stdout",
     "output_type": "stream",
     "text": [
      "<class 'pandas.core.frame.DataFrame'>\n",
      "RangeIndex: 413 entries, 0 to 412\n",
      "Data columns (total 5 columns):\n",
      " #   Column              Non-Null Count  Dtype \n",
      "---  ------              --------------  ----- \n",
      " 0   Id                  413 non-null    int64 \n",
      " 1   SleepDay            413 non-null    object\n",
      " 2   TotalSleepRecords   413 non-null    int64 \n",
      " 3   TotalMinutesAsleep  413 non-null    int64 \n",
      " 4   TotalTimeInBed      413 non-null    int64 \n",
      "dtypes: int64(4), object(1)\n",
      "memory usage: 16.3+ KB\n"
     ]
    }
   ],
   "source": [
    "sleep_day.info()"
   ]
  },
  {
   "cell_type": "markdown",
   "id": "c769ddaa",
   "metadata": {},
   "source": [
    "# Process"
   ]
  },
  {
   "cell_type": "markdown",
   "id": "a5db3ea9",
   "metadata": {},
   "source": [
    "The tool used for this analysis is the Python software on Jupyter notebook. "
   ]
  },
  {
   "cell_type": "markdown",
   "id": "48c6f990",
   "metadata": {},
   "source": [
    "### Checking for missing values"
   ]
  },
  {
   "cell_type": "code",
   "execution_count": 10,
   "id": "f6a9b060",
   "metadata": {},
   "outputs": [
    {
     "data": {
      "text/plain": [
       "Id                          0\n",
       "ActivityDate                0\n",
       "TotalSteps                  0\n",
       "TotalDistance               0\n",
       "TrackerDistance             0\n",
       "LoggedActivitiesDistance    0\n",
       "VeryActiveDistance          0\n",
       "ModeratelyActiveDistance    0\n",
       "LightActiveDistance         0\n",
       "SedentaryActiveDistance     0\n",
       "VeryActiveMinutes           0\n",
       "FairlyActiveMinutes         0\n",
       "LightlyActiveMinutes        0\n",
       "SedentaryMinutes            0\n",
       "Calories                    0\n",
       "dtype: int64"
      ]
     },
     "execution_count": 10,
     "metadata": {},
     "output_type": "execute_result"
    }
   ],
   "source": [
    "daily_activity.isnull().sum()"
   ]
  },
  {
   "cell_type": "code",
   "execution_count": 11,
   "id": "da478e73",
   "metadata": {},
   "outputs": [
    {
     "data": {
      "text/plain": [
       "Id             0\n",
       "ActivityDay    0\n",
       "Calories       0\n",
       "dtype: int64"
      ]
     },
     "execution_count": 11,
     "metadata": {},
     "output_type": "execute_result"
    }
   ],
   "source": [
    "daily_calories.isnull().sum()"
   ]
  },
  {
   "cell_type": "code",
   "execution_count": 12,
   "id": "f5e37965",
   "metadata": {},
   "outputs": [
    {
     "data": {
      "text/plain": [
       "Id                    0\n",
       "SleepDay              0\n",
       "TotalSleepRecords     0\n",
       "TotalMinutesAsleep    0\n",
       "TotalTimeInBed        0\n",
       "dtype: int64"
      ]
     },
     "execution_count": 12,
     "metadata": {},
     "output_type": "execute_result"
    }
   ],
   "source": [
    "sleep_day.isnull().sum()"
   ]
  },
  {
   "cell_type": "code",
   "execution_count": 52,
   "id": "255c3fa5",
   "metadata": {},
   "outputs": [],
   "source": [
    "#Change column name \"ActvityDay\" to \"ActivityDate\" for uniformity\n",
    "\n",
    "daily_calories.rename(columns ={'ActivityDay':'ActivityDate'}, inplace=True)\n",
    "sleep_day.rename(columns ={'SleepDay':'ActivityDate'}, inplace=True)"
   ]
  },
  {
   "cell_type": "code",
   "execution_count": 53,
   "id": "5e905b54",
   "metadata": {
    "scrolled": false
   },
   "outputs": [
    {
     "name": "stdout",
     "output_type": "stream",
     "text": [
      "<class 'pandas.core.frame.DataFrame'>\n",
      "RangeIndex: 940 entries, 0 to 939\n",
      "Data columns (total 15 columns):\n",
      " #   Column                    Non-Null Count  Dtype         \n",
      "---  ------                    --------------  -----         \n",
      " 0   Id                        940 non-null    int64         \n",
      " 1   ActivityDate              940 non-null    datetime64[ns]\n",
      " 2   TotalSteps                940 non-null    int64         \n",
      " 3   TotalDistance             940 non-null    float64       \n",
      " 4   TrackerDistance           940 non-null    float64       \n",
      " 5   LoggedActivitiesDistance  940 non-null    float64       \n",
      " 6   VeryActiveDistance        940 non-null    float64       \n",
      " 7   ModeratelyActiveDistance  940 non-null    float64       \n",
      " 8   LightActiveDistance       940 non-null    float64       \n",
      " 9   SedentaryActiveDistance   940 non-null    float64       \n",
      " 10  VeryActiveMinutes         940 non-null    int64         \n",
      " 11  FairlyActiveMinutes       940 non-null    int64         \n",
      " 12  LightlyActiveMinutes      940 non-null    int64         \n",
      " 13  SedentaryMinutes          940 non-null    int64         \n",
      " 14  Calories                  940 non-null    int64         \n",
      "dtypes: datetime64[ns](1), float64(7), int64(7)\n",
      "memory usage: 110.3 KB\n"
     ]
    }
   ],
   "source": [
    "# convert \"ActivityDate\" to datatime64 dtype and format to yyyy-mm-dd\n",
    "daily_activity[\"ActivityDate\"] = pd.to_datetime(daily_activity[\"ActivityDate\"], format=\"%m/%d/%Y\")\n",
    "daily_activity.info()"
   ]
  },
  {
   "cell_type": "code",
   "execution_count": 54,
   "id": "2df027f4",
   "metadata": {},
   "outputs": [],
   "source": [
    "daily_calories[\"ActivityDate\"] = pd.to_datetime(daily_calories[\"ActivityDate\"], format=\"%m/%d/%Y\")"
   ]
  },
  {
   "cell_type": "code",
   "execution_count": 104,
   "id": "891dce39",
   "metadata": {},
   "outputs": [
    {
     "name": "stdout",
     "output_type": "stream",
     "text": [
      "<class 'pandas.core.frame.DataFrame'>\n",
      "RangeIndex: 413 entries, 0 to 412\n",
      "Data columns (total 6 columns):\n",
      " #   Column              Non-Null Count  Dtype         \n",
      "---  ------              --------------  -----         \n",
      " 0   Id                  413 non-null    int64         \n",
      " 1   ActivityDate        413 non-null    datetime64[ns]\n",
      " 2   TotalSleepRecords   413 non-null    int64         \n",
      " 3   TotalMinutesAsleep  413 non-null    int64         \n",
      " 4   TotalTimeInBed      413 non-null    int64         \n",
      " 5   DayOfWeek           413 non-null    object        \n",
      "dtypes: datetime64[ns](1), int64(4), object(1)\n",
      "memory usage: 19.5+ KB\n"
     ]
    }
   ],
   "source": [
    "#Formatting the ActivityDate format to DateTime format\n",
    "sleep_day = sleep_day.assign(ActivityDate = pd.to_datetime(sleep_day['ActivityDate']))\n",
    "sleep_day.info()"
   ]
  },
  {
   "cell_type": "markdown",
   "id": "b6cfc86c",
   "metadata": {},
   "source": [
    "# Analyze"
   ]
  },
  {
   "cell_type": "code",
   "execution_count": 55,
   "id": "b2121727",
   "metadata": {},
   "outputs": [
    {
     "data": {
      "text/html": [
       "<div>\n",
       "<style scoped>\n",
       "    .dataframe tbody tr th:only-of-type {\n",
       "        vertical-align: middle;\n",
       "    }\n",
       "\n",
       "    .dataframe tbody tr th {\n",
       "        vertical-align: top;\n",
       "    }\n",
       "\n",
       "    .dataframe thead th {\n",
       "        text-align: right;\n",
       "    }\n",
       "</style>\n",
       "<table border=\"1\" class=\"dataframe\">\n",
       "  <thead>\n",
       "    <tr style=\"text-align: right;\">\n",
       "      <th></th>\n",
       "      <th>Id</th>\n",
       "      <th>ActivityDate</th>\n",
       "      <th>TotalSteps</th>\n",
       "      <th>TotalDistance</th>\n",
       "      <th>TrackerDistance</th>\n",
       "      <th>LoggedActivitiesDistance</th>\n",
       "      <th>VeryActiveDistance</th>\n",
       "      <th>ModeratelyActiveDistance</th>\n",
       "      <th>LightActiveDistance</th>\n",
       "      <th>SedentaryActiveDistance</th>\n",
       "      <th>VeryActiveMinutes</th>\n",
       "      <th>FairlyActiveMinutes</th>\n",
       "      <th>LightlyActiveMinutes</th>\n",
       "      <th>SedentaryMinutes</th>\n",
       "      <th>Calories</th>\n",
       "      <th>DayOfWeek</th>\n",
       "    </tr>\n",
       "  </thead>\n",
       "  <tbody>\n",
       "    <tr>\n",
       "      <th>0</th>\n",
       "      <td>1503960366</td>\n",
       "      <td>2016-04-12</td>\n",
       "      <td>13162</td>\n",
       "      <td>8.50</td>\n",
       "      <td>8.50</td>\n",
       "      <td>0.0</td>\n",
       "      <td>1.88</td>\n",
       "      <td>0.55</td>\n",
       "      <td>6.06</td>\n",
       "      <td>0.0</td>\n",
       "      <td>25</td>\n",
       "      <td>13</td>\n",
       "      <td>328</td>\n",
       "      <td>728</td>\n",
       "      <td>1985</td>\n",
       "      <td>Tuesday</td>\n",
       "    </tr>\n",
       "    <tr>\n",
       "      <th>1</th>\n",
       "      <td>1503960366</td>\n",
       "      <td>2016-04-13</td>\n",
       "      <td>10735</td>\n",
       "      <td>6.97</td>\n",
       "      <td>6.97</td>\n",
       "      <td>0.0</td>\n",
       "      <td>1.57</td>\n",
       "      <td>0.69</td>\n",
       "      <td>4.71</td>\n",
       "      <td>0.0</td>\n",
       "      <td>21</td>\n",
       "      <td>19</td>\n",
       "      <td>217</td>\n",
       "      <td>776</td>\n",
       "      <td>1797</td>\n",
       "      <td>Wednesday</td>\n",
       "    </tr>\n",
       "    <tr>\n",
       "      <th>2</th>\n",
       "      <td>1503960366</td>\n",
       "      <td>2016-04-14</td>\n",
       "      <td>10460</td>\n",
       "      <td>6.74</td>\n",
       "      <td>6.74</td>\n",
       "      <td>0.0</td>\n",
       "      <td>2.44</td>\n",
       "      <td>0.40</td>\n",
       "      <td>3.91</td>\n",
       "      <td>0.0</td>\n",
       "      <td>30</td>\n",
       "      <td>11</td>\n",
       "      <td>181</td>\n",
       "      <td>1218</td>\n",
       "      <td>1776</td>\n",
       "      <td>Thursday</td>\n",
       "    </tr>\n",
       "    <tr>\n",
       "      <th>3</th>\n",
       "      <td>1503960366</td>\n",
       "      <td>2016-04-15</td>\n",
       "      <td>9762</td>\n",
       "      <td>6.28</td>\n",
       "      <td>6.28</td>\n",
       "      <td>0.0</td>\n",
       "      <td>2.14</td>\n",
       "      <td>1.26</td>\n",
       "      <td>2.83</td>\n",
       "      <td>0.0</td>\n",
       "      <td>29</td>\n",
       "      <td>34</td>\n",
       "      <td>209</td>\n",
       "      <td>726</td>\n",
       "      <td>1745</td>\n",
       "      <td>Friday</td>\n",
       "    </tr>\n",
       "    <tr>\n",
       "      <th>4</th>\n",
       "      <td>1503960366</td>\n",
       "      <td>2016-04-16</td>\n",
       "      <td>12669</td>\n",
       "      <td>8.16</td>\n",
       "      <td>8.16</td>\n",
       "      <td>0.0</td>\n",
       "      <td>2.71</td>\n",
       "      <td>0.41</td>\n",
       "      <td>5.04</td>\n",
       "      <td>0.0</td>\n",
       "      <td>36</td>\n",
       "      <td>10</td>\n",
       "      <td>221</td>\n",
       "      <td>773</td>\n",
       "      <td>1863</td>\n",
       "      <td>Saturday</td>\n",
       "    </tr>\n",
       "    <tr>\n",
       "      <th>5</th>\n",
       "      <td>1503960366</td>\n",
       "      <td>2016-04-17</td>\n",
       "      <td>9705</td>\n",
       "      <td>6.48</td>\n",
       "      <td>6.48</td>\n",
       "      <td>0.0</td>\n",
       "      <td>3.19</td>\n",
       "      <td>0.78</td>\n",
       "      <td>2.51</td>\n",
       "      <td>0.0</td>\n",
       "      <td>38</td>\n",
       "      <td>20</td>\n",
       "      <td>164</td>\n",
       "      <td>539</td>\n",
       "      <td>1728</td>\n",
       "      <td>Sunday</td>\n",
       "    </tr>\n",
       "    <tr>\n",
       "      <th>6</th>\n",
       "      <td>1503960366</td>\n",
       "      <td>2016-04-18</td>\n",
       "      <td>13019</td>\n",
       "      <td>8.59</td>\n",
       "      <td>8.59</td>\n",
       "      <td>0.0</td>\n",
       "      <td>3.25</td>\n",
       "      <td>0.64</td>\n",
       "      <td>4.71</td>\n",
       "      <td>0.0</td>\n",
       "      <td>42</td>\n",
       "      <td>16</td>\n",
       "      <td>233</td>\n",
       "      <td>1149</td>\n",
       "      <td>1921</td>\n",
       "      <td>Monday</td>\n",
       "    </tr>\n",
       "    <tr>\n",
       "      <th>7</th>\n",
       "      <td>1503960366</td>\n",
       "      <td>2016-04-19</td>\n",
       "      <td>15506</td>\n",
       "      <td>9.88</td>\n",
       "      <td>9.88</td>\n",
       "      <td>0.0</td>\n",
       "      <td>3.53</td>\n",
       "      <td>1.32</td>\n",
       "      <td>5.03</td>\n",
       "      <td>0.0</td>\n",
       "      <td>50</td>\n",
       "      <td>31</td>\n",
       "      <td>264</td>\n",
       "      <td>775</td>\n",
       "      <td>2035</td>\n",
       "      <td>Tuesday</td>\n",
       "    </tr>\n",
       "    <tr>\n",
       "      <th>8</th>\n",
       "      <td>1503960366</td>\n",
       "      <td>2016-04-20</td>\n",
       "      <td>10544</td>\n",
       "      <td>6.68</td>\n",
       "      <td>6.68</td>\n",
       "      <td>0.0</td>\n",
       "      <td>1.96</td>\n",
       "      <td>0.48</td>\n",
       "      <td>4.24</td>\n",
       "      <td>0.0</td>\n",
       "      <td>28</td>\n",
       "      <td>12</td>\n",
       "      <td>205</td>\n",
       "      <td>818</td>\n",
       "      <td>1786</td>\n",
       "      <td>Wednesday</td>\n",
       "    </tr>\n",
       "    <tr>\n",
       "      <th>9</th>\n",
       "      <td>1503960366</td>\n",
       "      <td>2016-04-21</td>\n",
       "      <td>9819</td>\n",
       "      <td>6.34</td>\n",
       "      <td>6.34</td>\n",
       "      <td>0.0</td>\n",
       "      <td>1.34</td>\n",
       "      <td>0.35</td>\n",
       "      <td>4.65</td>\n",
       "      <td>0.0</td>\n",
       "      <td>19</td>\n",
       "      <td>8</td>\n",
       "      <td>211</td>\n",
       "      <td>838</td>\n",
       "      <td>1775</td>\n",
       "      <td>Thursday</td>\n",
       "    </tr>\n",
       "  </tbody>\n",
       "</table>\n",
       "</div>"
      ],
      "text/plain": [
       "           Id ActivityDate  TotalSteps  TotalDistance  TrackerDistance  \\\n",
       "0  1503960366   2016-04-12       13162           8.50             8.50   \n",
       "1  1503960366   2016-04-13       10735           6.97             6.97   \n",
       "2  1503960366   2016-04-14       10460           6.74             6.74   \n",
       "3  1503960366   2016-04-15        9762           6.28             6.28   \n",
       "4  1503960366   2016-04-16       12669           8.16             8.16   \n",
       "5  1503960366   2016-04-17        9705           6.48             6.48   \n",
       "6  1503960366   2016-04-18       13019           8.59             8.59   \n",
       "7  1503960366   2016-04-19       15506           9.88             9.88   \n",
       "8  1503960366   2016-04-20       10544           6.68             6.68   \n",
       "9  1503960366   2016-04-21        9819           6.34             6.34   \n",
       "\n",
       "   LoggedActivitiesDistance  VeryActiveDistance  ModeratelyActiveDistance  \\\n",
       "0                       0.0                1.88                      0.55   \n",
       "1                       0.0                1.57                      0.69   \n",
       "2                       0.0                2.44                      0.40   \n",
       "3                       0.0                2.14                      1.26   \n",
       "4                       0.0                2.71                      0.41   \n",
       "5                       0.0                3.19                      0.78   \n",
       "6                       0.0                3.25                      0.64   \n",
       "7                       0.0                3.53                      1.32   \n",
       "8                       0.0                1.96                      0.48   \n",
       "9                       0.0                1.34                      0.35   \n",
       "\n",
       "   LightActiveDistance  SedentaryActiveDistance  VeryActiveMinutes  \\\n",
       "0                 6.06                      0.0                 25   \n",
       "1                 4.71                      0.0                 21   \n",
       "2                 3.91                      0.0                 30   \n",
       "3                 2.83                      0.0                 29   \n",
       "4                 5.04                      0.0                 36   \n",
       "5                 2.51                      0.0                 38   \n",
       "6                 4.71                      0.0                 42   \n",
       "7                 5.03                      0.0                 50   \n",
       "8                 4.24                      0.0                 28   \n",
       "9                 4.65                      0.0                 19   \n",
       "\n",
       "   FairlyActiveMinutes  LightlyActiveMinutes  SedentaryMinutes  Calories  \\\n",
       "0                   13                   328               728      1985   \n",
       "1                   19                   217               776      1797   \n",
       "2                   11                   181              1218      1776   \n",
       "3                   34                   209               726      1745   \n",
       "4                   10                   221               773      1863   \n",
       "5                   20                   164               539      1728   \n",
       "6                   16                   233              1149      1921   \n",
       "7                   31                   264               775      2035   \n",
       "8                   12                   205               818      1786   \n",
       "9                    8                   211               838      1775   \n",
       "\n",
       "   DayOfWeek  \n",
       "0    Tuesday  \n",
       "1  Wednesday  \n",
       "2   Thursday  \n",
       "3     Friday  \n",
       "4   Saturday  \n",
       "5     Sunday  \n",
       "6     Monday  \n",
       "7    Tuesday  \n",
       "8  Wednesday  \n",
       "9   Thursday  "
      ]
     },
     "execution_count": 55,
     "metadata": {},
     "output_type": "execute_result"
    }
   ],
   "source": [
    "# Creating a column for Day of Week\n",
    "daily_activity['DayOfWeek'] = daily_activity['ActivityDate'].dt.day_name()\n",
    "daily_activity.head(10)"
   ]
  },
  {
   "cell_type": "code",
   "execution_count": 71,
   "id": "328c0a48",
   "metadata": {},
   "outputs": [
    {
     "data": {
      "text/html": [
       "<div>\n",
       "<style scoped>\n",
       "    .dataframe tbody tr th:only-of-type {\n",
       "        vertical-align: middle;\n",
       "    }\n",
       "\n",
       "    .dataframe tbody tr th {\n",
       "        vertical-align: top;\n",
       "    }\n",
       "\n",
       "    .dataframe thead th {\n",
       "        text-align: right;\n",
       "    }\n",
       "</style>\n",
       "<table border=\"1\" class=\"dataframe\">\n",
       "  <thead>\n",
       "    <tr style=\"text-align: right;\">\n",
       "      <th></th>\n",
       "      <th>Id</th>\n",
       "      <th>ActivityDate</th>\n",
       "      <th>TotalSteps</th>\n",
       "      <th>TotalDistance</th>\n",
       "      <th>TrackerDistance</th>\n",
       "      <th>LoggedActivitiesDistance</th>\n",
       "      <th>VeryActiveDistance</th>\n",
       "      <th>ModeratelyActiveDistance</th>\n",
       "      <th>LightActiveDistance</th>\n",
       "      <th>SedentaryActiveDistance</th>\n",
       "      <th>VeryActiveMinutes</th>\n",
       "      <th>FairlyActiveMinutes</th>\n",
       "      <th>LightlyActiveMinutes</th>\n",
       "      <th>SedentaryMinutes</th>\n",
       "      <th>Calories</th>\n",
       "      <th>DayOfWeek</th>\n",
       "      <th>total_activity_mins</th>\n",
       "      <th>total_activity_hours</th>\n",
       "    </tr>\n",
       "  </thead>\n",
       "  <tbody>\n",
       "    <tr>\n",
       "      <th>0</th>\n",
       "      <td>1503960366</td>\n",
       "      <td>2016-04-12</td>\n",
       "      <td>13162</td>\n",
       "      <td>8.50</td>\n",
       "      <td>8.50</td>\n",
       "      <td>0.0</td>\n",
       "      <td>1.88</td>\n",
       "      <td>0.55</td>\n",
       "      <td>6.06</td>\n",
       "      <td>0.0</td>\n",
       "      <td>25</td>\n",
       "      <td>13</td>\n",
       "      <td>328</td>\n",
       "      <td>728</td>\n",
       "      <td>1985</td>\n",
       "      <td>Tuesday</td>\n",
       "      <td>1094</td>\n",
       "      <td>18.0</td>\n",
       "    </tr>\n",
       "    <tr>\n",
       "      <th>1</th>\n",
       "      <td>1503960366</td>\n",
       "      <td>2016-04-13</td>\n",
       "      <td>10735</td>\n",
       "      <td>6.97</td>\n",
       "      <td>6.97</td>\n",
       "      <td>0.0</td>\n",
       "      <td>1.57</td>\n",
       "      <td>0.69</td>\n",
       "      <td>4.71</td>\n",
       "      <td>0.0</td>\n",
       "      <td>21</td>\n",
       "      <td>19</td>\n",
       "      <td>217</td>\n",
       "      <td>776</td>\n",
       "      <td>1797</td>\n",
       "      <td>Wednesday</td>\n",
       "      <td>1033</td>\n",
       "      <td>17.0</td>\n",
       "    </tr>\n",
       "    <tr>\n",
       "      <th>2</th>\n",
       "      <td>1503960366</td>\n",
       "      <td>2016-04-14</td>\n",
       "      <td>10460</td>\n",
       "      <td>6.74</td>\n",
       "      <td>6.74</td>\n",
       "      <td>0.0</td>\n",
       "      <td>2.44</td>\n",
       "      <td>0.40</td>\n",
       "      <td>3.91</td>\n",
       "      <td>0.0</td>\n",
       "      <td>30</td>\n",
       "      <td>11</td>\n",
       "      <td>181</td>\n",
       "      <td>1218</td>\n",
       "      <td>1776</td>\n",
       "      <td>Thursday</td>\n",
       "      <td>1440</td>\n",
       "      <td>24.0</td>\n",
       "    </tr>\n",
       "    <tr>\n",
       "      <th>3</th>\n",
       "      <td>1503960366</td>\n",
       "      <td>2016-04-15</td>\n",
       "      <td>9762</td>\n",
       "      <td>6.28</td>\n",
       "      <td>6.28</td>\n",
       "      <td>0.0</td>\n",
       "      <td>2.14</td>\n",
       "      <td>1.26</td>\n",
       "      <td>2.83</td>\n",
       "      <td>0.0</td>\n",
       "      <td>29</td>\n",
       "      <td>34</td>\n",
       "      <td>209</td>\n",
       "      <td>726</td>\n",
       "      <td>1745</td>\n",
       "      <td>Friday</td>\n",
       "      <td>998</td>\n",
       "      <td>17.0</td>\n",
       "    </tr>\n",
       "    <tr>\n",
       "      <th>4</th>\n",
       "      <td>1503960366</td>\n",
       "      <td>2016-04-16</td>\n",
       "      <td>12669</td>\n",
       "      <td>8.16</td>\n",
       "      <td>8.16</td>\n",
       "      <td>0.0</td>\n",
       "      <td>2.71</td>\n",
       "      <td>0.41</td>\n",
       "      <td>5.04</td>\n",
       "      <td>0.0</td>\n",
       "      <td>36</td>\n",
       "      <td>10</td>\n",
       "      <td>221</td>\n",
       "      <td>773</td>\n",
       "      <td>1863</td>\n",
       "      <td>Saturday</td>\n",
       "      <td>1040</td>\n",
       "      <td>17.0</td>\n",
       "    </tr>\n",
       "  </tbody>\n",
       "</table>\n",
       "</div>"
      ],
      "text/plain": [
       "           Id ActivityDate  TotalSteps  TotalDistance  TrackerDistance  \\\n",
       "0  1503960366   2016-04-12       13162           8.50             8.50   \n",
       "1  1503960366   2016-04-13       10735           6.97             6.97   \n",
       "2  1503960366   2016-04-14       10460           6.74             6.74   \n",
       "3  1503960366   2016-04-15        9762           6.28             6.28   \n",
       "4  1503960366   2016-04-16       12669           8.16             8.16   \n",
       "\n",
       "   LoggedActivitiesDistance  VeryActiveDistance  ModeratelyActiveDistance  \\\n",
       "0                       0.0                1.88                      0.55   \n",
       "1                       0.0                1.57                      0.69   \n",
       "2                       0.0                2.44                      0.40   \n",
       "3                       0.0                2.14                      1.26   \n",
       "4                       0.0                2.71                      0.41   \n",
       "\n",
       "   LightActiveDistance  SedentaryActiveDistance  VeryActiveMinutes  \\\n",
       "0                 6.06                      0.0                 25   \n",
       "1                 4.71                      0.0                 21   \n",
       "2                 3.91                      0.0                 30   \n",
       "3                 2.83                      0.0                 29   \n",
       "4                 5.04                      0.0                 36   \n",
       "\n",
       "   FairlyActiveMinutes  LightlyActiveMinutes  SedentaryMinutes  Calories  \\\n",
       "0                   13                   328               728      1985   \n",
       "1                   19                   217               776      1797   \n",
       "2                   11                   181              1218      1776   \n",
       "3                   34                   209               726      1745   \n",
       "4                   10                   221               773      1863   \n",
       "\n",
       "   DayOfWeek  total_activity_mins  total_activity_hours  \n",
       "0    Tuesday                 1094                  18.0  \n",
       "1  Wednesday                 1033                  17.0  \n",
       "2   Thursday                 1440                  24.0  \n",
       "3     Friday                  998                  17.0  \n",
       "4   Saturday                 1040                  17.0  "
      ]
     },
     "execution_count": 71,
     "metadata": {},
     "output_type": "execute_result"
    }
   ],
   "source": [
    "# Combine the activity minutes and convert to hour\n",
    "daily_activity[\"total_activity_mins\"] = daily_activity[\"VeryActiveMinutes\"] + daily_activity[\"FairlyActiveMinutes\"] + daily_activity[\"LightlyActiveMinutes\"] + daily_activity[\"SedentaryMinutes\"]\n",
    "daily_activity[\"total_activity_hours\"] = round(daily_activity[\"total_activity_mins\"]/60)\n",
    "daily_activity.head(5)"
   ]
  },
  {
   "cell_type": "code",
   "execution_count": 73,
   "id": "0e051141",
   "metadata": {},
   "outputs": [],
   "source": [
    "# Creating Day of week column for the remaining dataframe.\n",
    "daily_calories['DayOfWeek'] = daily_calories['ActivityDate'].dt.day_name()\n",
    "sleep_day['DayOfWeek'] = sleep_day['ActivityDate'].dt.day_name()"
   ]
  },
  {
   "cell_type": "markdown",
   "id": "344e1c39",
   "metadata": {},
   "source": [
    "Since all dataset are identified by Id, they will be merged."
   ]
  },
  {
   "cell_type": "code",
   "execution_count": 89,
   "id": "59aac25d",
   "metadata": {
    "scrolled": false
   },
   "outputs": [
    {
     "name": "stdout",
     "output_type": "stream",
     "text": [
      "<class 'pandas.core.frame.DataFrame'>\n",
      "Int64Index: 413 entries, 0 to 412\n",
      "Data columns (total 21 columns):\n",
      " #   Column                    Non-Null Count  Dtype         \n",
      "---  ------                    --------------  -----         \n",
      " 0   Id                        413 non-null    int64         \n",
      " 1   ActivityDate              413 non-null    datetime64[ns]\n",
      " 2   TotalSteps                413 non-null    int64         \n",
      " 3   TotalDistance             413 non-null    float64       \n",
      " 4   TrackerDistance           413 non-null    float64       \n",
      " 5   LoggedActivitiesDistance  413 non-null    float64       \n",
      " 6   VeryActiveDistance        413 non-null    float64       \n",
      " 7   ModeratelyActiveDistance  413 non-null    float64       \n",
      " 8   LightActiveDistance       413 non-null    float64       \n",
      " 9   SedentaryActiveDistance   413 non-null    float64       \n",
      " 10  VeryActiveMinutes         413 non-null    int64         \n",
      " 11  FairlyActiveMinutes       413 non-null    int64         \n",
      " 12  LightlyActiveMinutes      413 non-null    int64         \n",
      " 13  SedentaryMinutes          413 non-null    int64         \n",
      " 14  Calories                  413 non-null    int64         \n",
      " 15  DayOfWeek                 413 non-null    object        \n",
      " 16  total_activity_mins       413 non-null    int64         \n",
      " 17  total_activity_hours      413 non-null    float64       \n",
      " 18  TotalSleepRecords         413 non-null    int64         \n",
      " 19  TotalMinutesAsleep        413 non-null    int64         \n",
      " 20  TotalTimeInBed            413 non-null    int64         \n",
      "dtypes: datetime64[ns](1), float64(8), int64(11), object(1)\n",
      "memory usage: 71.0+ KB\n"
     ]
    }
   ],
   "source": [
    "# Merging datasets together\n",
    "merged_data = pd.merge(left=daily_activity, right = sleep_day,how='inner', on=['Id', 'ActivityDate', 'DayOfWeek'] )\n",
    "merged_data.info()"
   ]
  },
  {
   "cell_type": "code",
   "execution_count": 90,
   "id": "9f959071",
   "metadata": {},
   "outputs": [
    {
     "data": {
      "text/plain": [
       "3"
      ]
     },
     "execution_count": 90,
     "metadata": {},
     "output_type": "execute_result"
    }
   ],
   "source": [
    "#Checking for duplicates\n",
    "merged_data.duplicated().sum()"
   ]
  },
  {
   "cell_type": "code",
   "execution_count": 91,
   "id": "383dcdde",
   "metadata": {
    "scrolled": false
   },
   "outputs": [],
   "source": [
    "# Dropping duplicates\n",
    "merged_data.drop_duplicates(inplace = True)"
   ]
  },
  {
   "cell_type": "code",
   "execution_count": 92,
   "id": "d60ff395",
   "metadata": {},
   "outputs": [
    {
     "data": {
      "text/plain": [
       "0"
      ]
     },
     "execution_count": 92,
     "metadata": {},
     "output_type": "execute_result"
    }
   ],
   "source": [
    "# Confirming duplicates were dropped successfully\n",
    "merged_data.duplicated().sum()"
   ]
  },
  {
   "cell_type": "code",
   "execution_count": 93,
   "id": "9431a5bb",
   "metadata": {},
   "outputs": [
    {
     "name": "stdout",
     "output_type": "stream",
     "text": [
      "<class 'pandas.core.frame.DataFrame'>\n",
      "Int64Index: 410 entries, 0 to 409\n",
      "Data columns (total 21 columns):\n",
      " #   Column                    Non-Null Count  Dtype         \n",
      "---  ------                    --------------  -----         \n",
      " 0   Id                        410 non-null    int64         \n",
      " 1   ActivityDate              410 non-null    datetime64[ns]\n",
      " 2   TotalSteps                410 non-null    int64         \n",
      " 3   TotalDistance             410 non-null    float64       \n",
      " 4   TrackerDistance           410 non-null    float64       \n",
      " 5   LoggedActivitiesDistance  410 non-null    float64       \n",
      " 6   VeryActiveDistance        410 non-null    float64       \n",
      " 7   ModeratelyActiveDistance  410 non-null    float64       \n",
      " 8   LightActiveDistance       410 non-null    float64       \n",
      " 9   SedentaryActiveDistance   410 non-null    float64       \n",
      " 10  VeryActiveMinutes         410 non-null    int64         \n",
      " 11  FairlyActiveMinutes       410 non-null    int64         \n",
      " 12  LightlyActiveMinutes      410 non-null    int64         \n",
      " 13  SedentaryMinutes          410 non-null    int64         \n",
      " 14  Calories                  410 non-null    int64         \n",
      " 15  DayOfWeek                 410 non-null    object        \n",
      " 16  total_activity_mins       410 non-null    int64         \n",
      " 17  total_activity_hours      410 non-null    float64       \n",
      " 18  TotalSleepRecords         410 non-null    int64         \n",
      " 19  TotalMinutesAsleep        410 non-null    int64         \n",
      " 20  TotalTimeInBed            410 non-null    int64         \n",
      "dtypes: datetime64[ns](1), float64(8), int64(11), object(1)\n",
      "memory usage: 70.5+ KB\n"
     ]
    }
   ],
   "source": [
    "merged_data= pd.merge(left= merged_data, right = daily_calories,how='inner', on=['Id', 'ActivityDate','DayOfWeek', 'Calories'] )\n",
    "merged_data.info()"
   ]
  },
  {
   "cell_type": "code",
   "execution_count": 94,
   "id": "f268fc37",
   "metadata": {},
   "outputs": [
    {
     "data": {
      "text/plain": [
       "0"
      ]
     },
     "execution_count": 94,
     "metadata": {},
     "output_type": "execute_result"
    }
   ],
   "source": [
    "#Checking for duplicates\n",
    "merged_data.duplicated().sum()"
   ]
  },
  {
   "cell_type": "code",
   "execution_count": 95,
   "id": "33a1f5a6",
   "metadata": {
    "scrolled": true
   },
   "outputs": [
    {
     "data": {
      "text/html": [
       "<div>\n",
       "<style scoped>\n",
       "    .dataframe tbody tr th:only-of-type {\n",
       "        vertical-align: middle;\n",
       "    }\n",
       "\n",
       "    .dataframe tbody tr th {\n",
       "        vertical-align: top;\n",
       "    }\n",
       "\n",
       "    .dataframe thead th {\n",
       "        text-align: right;\n",
       "    }\n",
       "</style>\n",
       "<table border=\"1\" class=\"dataframe\">\n",
       "  <thead>\n",
       "    <tr style=\"text-align: right;\">\n",
       "      <th></th>\n",
       "      <th>id</th>\n",
       "      <th>activitydate</th>\n",
       "      <th>totalsteps</th>\n",
       "      <th>totaldistance</th>\n",
       "      <th>trackerdistance</th>\n",
       "      <th>loggedactivitiesdistance</th>\n",
       "      <th>veryactivedistance</th>\n",
       "      <th>moderatelyactivedistance</th>\n",
       "      <th>lightactivedistance</th>\n",
       "      <th>sedentaryactivedistance</th>\n",
       "      <th>veryactiveminutes</th>\n",
       "      <th>fairlyactiveminutes</th>\n",
       "      <th>lightlyactiveminutes</th>\n",
       "      <th>sedentaryminutes</th>\n",
       "      <th>calories</th>\n",
       "      <th>dayofweek</th>\n",
       "      <th>total_activity_mins</th>\n",
       "      <th>total_activity_hours</th>\n",
       "      <th>totalsleeprecords</th>\n",
       "      <th>totalminutesasleep</th>\n",
       "      <th>totaltimeinbed</th>\n",
       "    </tr>\n",
       "  </thead>\n",
       "  <tbody>\n",
       "    <tr>\n",
       "      <th>0</th>\n",
       "      <td>1503960366</td>\n",
       "      <td>2016-04-12</td>\n",
       "      <td>13162</td>\n",
       "      <td>8.50</td>\n",
       "      <td>8.50</td>\n",
       "      <td>0.0</td>\n",
       "      <td>1.88</td>\n",
       "      <td>0.55</td>\n",
       "      <td>6.06</td>\n",
       "      <td>0.0</td>\n",
       "      <td>25</td>\n",
       "      <td>13</td>\n",
       "      <td>328</td>\n",
       "      <td>728</td>\n",
       "      <td>1985</td>\n",
       "      <td>Tuesday</td>\n",
       "      <td>1094</td>\n",
       "      <td>18.0</td>\n",
       "      <td>1</td>\n",
       "      <td>327</td>\n",
       "      <td>346</td>\n",
       "    </tr>\n",
       "    <tr>\n",
       "      <th>1</th>\n",
       "      <td>1503960366</td>\n",
       "      <td>2016-04-13</td>\n",
       "      <td>10735</td>\n",
       "      <td>6.97</td>\n",
       "      <td>6.97</td>\n",
       "      <td>0.0</td>\n",
       "      <td>1.57</td>\n",
       "      <td>0.69</td>\n",
       "      <td>4.71</td>\n",
       "      <td>0.0</td>\n",
       "      <td>21</td>\n",
       "      <td>19</td>\n",
       "      <td>217</td>\n",
       "      <td>776</td>\n",
       "      <td>1797</td>\n",
       "      <td>Wednesday</td>\n",
       "      <td>1033</td>\n",
       "      <td>17.0</td>\n",
       "      <td>2</td>\n",
       "      <td>384</td>\n",
       "      <td>407</td>\n",
       "    </tr>\n",
       "    <tr>\n",
       "      <th>2</th>\n",
       "      <td>1503960366</td>\n",
       "      <td>2016-04-15</td>\n",
       "      <td>9762</td>\n",
       "      <td>6.28</td>\n",
       "      <td>6.28</td>\n",
       "      <td>0.0</td>\n",
       "      <td>2.14</td>\n",
       "      <td>1.26</td>\n",
       "      <td>2.83</td>\n",
       "      <td>0.0</td>\n",
       "      <td>29</td>\n",
       "      <td>34</td>\n",
       "      <td>209</td>\n",
       "      <td>726</td>\n",
       "      <td>1745</td>\n",
       "      <td>Friday</td>\n",
       "      <td>998</td>\n",
       "      <td>17.0</td>\n",
       "      <td>1</td>\n",
       "      <td>412</td>\n",
       "      <td>442</td>\n",
       "    </tr>\n",
       "    <tr>\n",
       "      <th>3</th>\n",
       "      <td>1503960366</td>\n",
       "      <td>2016-04-16</td>\n",
       "      <td>12669</td>\n",
       "      <td>8.16</td>\n",
       "      <td>8.16</td>\n",
       "      <td>0.0</td>\n",
       "      <td>2.71</td>\n",
       "      <td>0.41</td>\n",
       "      <td>5.04</td>\n",
       "      <td>0.0</td>\n",
       "      <td>36</td>\n",
       "      <td>10</td>\n",
       "      <td>221</td>\n",
       "      <td>773</td>\n",
       "      <td>1863</td>\n",
       "      <td>Saturday</td>\n",
       "      <td>1040</td>\n",
       "      <td>17.0</td>\n",
       "      <td>2</td>\n",
       "      <td>340</td>\n",
       "      <td>367</td>\n",
       "    </tr>\n",
       "    <tr>\n",
       "      <th>4</th>\n",
       "      <td>1503960366</td>\n",
       "      <td>2016-04-17</td>\n",
       "      <td>9705</td>\n",
       "      <td>6.48</td>\n",
       "      <td>6.48</td>\n",
       "      <td>0.0</td>\n",
       "      <td>3.19</td>\n",
       "      <td>0.78</td>\n",
       "      <td>2.51</td>\n",
       "      <td>0.0</td>\n",
       "      <td>38</td>\n",
       "      <td>20</td>\n",
       "      <td>164</td>\n",
       "      <td>539</td>\n",
       "      <td>1728</td>\n",
       "      <td>Sunday</td>\n",
       "      <td>761</td>\n",
       "      <td>13.0</td>\n",
       "      <td>1</td>\n",
       "      <td>700</td>\n",
       "      <td>712</td>\n",
       "    </tr>\n",
       "  </tbody>\n",
       "</table>\n",
       "</div>"
      ],
      "text/plain": [
       "           id activitydate  totalsteps  totaldistance  trackerdistance  \\\n",
       "0  1503960366   2016-04-12       13162           8.50             8.50   \n",
       "1  1503960366   2016-04-13       10735           6.97             6.97   \n",
       "2  1503960366   2016-04-15        9762           6.28             6.28   \n",
       "3  1503960366   2016-04-16       12669           8.16             8.16   \n",
       "4  1503960366   2016-04-17        9705           6.48             6.48   \n",
       "\n",
       "   loggedactivitiesdistance  veryactivedistance  moderatelyactivedistance  \\\n",
       "0                       0.0                1.88                      0.55   \n",
       "1                       0.0                1.57                      0.69   \n",
       "2                       0.0                2.14                      1.26   \n",
       "3                       0.0                2.71                      0.41   \n",
       "4                       0.0                3.19                      0.78   \n",
       "\n",
       "   lightactivedistance  sedentaryactivedistance  veryactiveminutes  \\\n",
       "0                 6.06                      0.0                 25   \n",
       "1                 4.71                      0.0                 21   \n",
       "2                 2.83                      0.0                 29   \n",
       "3                 5.04                      0.0                 36   \n",
       "4                 2.51                      0.0                 38   \n",
       "\n",
       "   fairlyactiveminutes  lightlyactiveminutes  sedentaryminutes  calories  \\\n",
       "0                   13                   328               728      1985   \n",
       "1                   19                   217               776      1797   \n",
       "2                   34                   209               726      1745   \n",
       "3                   10                   221               773      1863   \n",
       "4                   20                   164               539      1728   \n",
       "\n",
       "   dayofweek  total_activity_mins  total_activity_hours  totalsleeprecords  \\\n",
       "0    Tuesday                 1094                  18.0                  1   \n",
       "1  Wednesday                 1033                  17.0                  2   \n",
       "2     Friday                  998                  17.0                  1   \n",
       "3   Saturday                 1040                  17.0                  2   \n",
       "4     Sunday                  761                  13.0                  1   \n",
       "\n",
       "   totalminutesasleep  totaltimeinbed  \n",
       "0                 327             346  \n",
       "1                 384             407  \n",
       "2                 412             442  \n",
       "3                 340             367  \n",
       "4                 700             712  "
      ]
     },
     "execution_count": 95,
     "metadata": {},
     "output_type": "execute_result"
    }
   ],
   "source": [
    "merged_data.columns=map(str.lower,merged_data.columns)\n",
    "pd.set_option('display.max_columns', None)\n",
    "merged_data.head()"
   ]
  },
  {
   "cell_type": "code",
   "execution_count": 96,
   "id": "979f93c4",
   "metadata": {},
   "outputs": [
    {
     "name": "stdout",
     "output_type": "stream",
     "text": [
      "<class 'pandas.core.frame.DataFrame'>\n",
      "Int64Index: 410 entries, 0 to 409\n",
      "Data columns (total 21 columns):\n",
      " #   Column                    Non-Null Count  Dtype         \n",
      "---  ------                    --------------  -----         \n",
      " 0   id                        410 non-null    int64         \n",
      " 1   activitydate              410 non-null    datetime64[ns]\n",
      " 2   totalsteps                410 non-null    int64         \n",
      " 3   totaldistance             410 non-null    float64       \n",
      " 4   trackerdistance           410 non-null    float64       \n",
      " 5   loggedactivitiesdistance  410 non-null    float64       \n",
      " 6   veryactivedistance        410 non-null    float64       \n",
      " 7   moderatelyactivedistance  410 non-null    float64       \n",
      " 8   lightactivedistance       410 non-null    float64       \n",
      " 9   sedentaryactivedistance   410 non-null    float64       \n",
      " 10  veryactiveminutes         410 non-null    int64         \n",
      " 11  fairlyactiveminutes       410 non-null    int64         \n",
      " 12  lightlyactiveminutes      410 non-null    int64         \n",
      " 13  sedentaryminutes          410 non-null    int64         \n",
      " 14  calories                  410 non-null    int64         \n",
      " 15  dayofweek                 410 non-null    object        \n",
      " 16  total_activity_mins       410 non-null    int64         \n",
      " 17  total_activity_hours      410 non-null    float64       \n",
      " 18  totalsleeprecords         410 non-null    int64         \n",
      " 19  totalminutesasleep        410 non-null    int64         \n",
      " 20  totaltimeinbed            410 non-null    int64         \n",
      "dtypes: datetime64[ns](1), float64(8), int64(11), object(1)\n",
      "memory usage: 70.5+ KB\n"
     ]
    }
   ],
   "source": [
    "merged_data.info()"
   ]
  },
  {
   "cell_type": "code",
   "execution_count": 103,
   "id": "1a43580b",
   "metadata": {},
   "outputs": [
    {
     "data": {
      "text/html": [
       "<div>\n",
       "<style scoped>\n",
       "    .dataframe tbody tr th:only-of-type {\n",
       "        vertical-align: middle;\n",
       "    }\n",
       "\n",
       "    .dataframe tbody tr th {\n",
       "        vertical-align: top;\n",
       "    }\n",
       "\n",
       "    .dataframe thead th {\n",
       "        text-align: right;\n",
       "    }\n",
       "</style>\n",
       "<table border=\"1\" class=\"dataframe\">\n",
       "  <thead>\n",
       "    <tr style=\"text-align: right;\">\n",
       "      <th></th>\n",
       "      <th>id</th>\n",
       "      <th>totalsteps</th>\n",
       "      <th>totaldistance</th>\n",
       "      <th>trackerdistance</th>\n",
       "      <th>loggedactivitiesdistance</th>\n",
       "      <th>veryactivedistance</th>\n",
       "      <th>moderatelyactivedistance</th>\n",
       "      <th>lightactivedistance</th>\n",
       "      <th>sedentaryactivedistance</th>\n",
       "      <th>veryactiveminutes</th>\n",
       "      <th>fairlyactiveminutes</th>\n",
       "      <th>lightlyactiveminutes</th>\n",
       "      <th>sedentaryminutes</th>\n",
       "      <th>calories</th>\n",
       "      <th>total_activity_mins</th>\n",
       "      <th>total_activity_hours</th>\n",
       "      <th>totalsleeprecords</th>\n",
       "      <th>totalminutesasleep</th>\n",
       "      <th>totaltimeinbed</th>\n",
       "    </tr>\n",
       "  </thead>\n",
       "  <tbody>\n",
       "    <tr>\n",
       "      <th>count</th>\n",
       "      <td>4.100000e+02</td>\n",
       "      <td>410.000000</td>\n",
       "      <td>410.000000</td>\n",
       "      <td>410.000000</td>\n",
       "      <td>410.000000</td>\n",
       "      <td>410.000000</td>\n",
       "      <td>410.000000</td>\n",
       "      <td>410.000000</td>\n",
       "      <td>410.000000</td>\n",
       "      <td>410.000000</td>\n",
       "      <td>410.000000</td>\n",
       "      <td>410.000000</td>\n",
       "      <td>410.000000</td>\n",
       "      <td>410.000000</td>\n",
       "      <td>410.000000</td>\n",
       "      <td>410.000000</td>\n",
       "      <td>410.000000</td>\n",
       "      <td>410.000000</td>\n",
       "      <td>410.000000</td>\n",
       "    </tr>\n",
       "    <tr>\n",
       "      <th>mean</th>\n",
       "      <td>4.994963e+09</td>\n",
       "      <td>8514.909756</td>\n",
       "      <td>6.012390</td>\n",
       "      <td>6.007366</td>\n",
       "      <td>0.108867</td>\n",
       "      <td>1.446220</td>\n",
       "      <td>0.743902</td>\n",
       "      <td>3.791122</td>\n",
       "      <td>0.000927</td>\n",
       "      <td>25.046341</td>\n",
       "      <td>17.924390</td>\n",
       "      <td>216.541463</td>\n",
       "      <td>712.100000</td>\n",
       "      <td>2389.295122</td>\n",
       "      <td>971.612195</td>\n",
       "      <td>16.195122</td>\n",
       "      <td>1.119512</td>\n",
       "      <td>419.173171</td>\n",
       "      <td>458.482927</td>\n",
       "    </tr>\n",
       "    <tr>\n",
       "      <th>std</th>\n",
       "      <td>2.060863e+09</td>\n",
       "      <td>4157.375584</td>\n",
       "      <td>3.043946</td>\n",
       "      <td>3.039279</td>\n",
       "      <td>0.505523</td>\n",
       "      <td>1.992591</td>\n",
       "      <td>0.999806</td>\n",
       "      <td>1.720788</td>\n",
       "      <td>0.008685</td>\n",
       "      <td>36.218237</td>\n",
       "      <td>22.418593</td>\n",
       "      <td>86.705299</td>\n",
       "      <td>166.179395</td>\n",
       "      <td>758.435040</td>\n",
       "      <td>167.523522</td>\n",
       "      <td>2.810385</td>\n",
       "      <td>0.346636</td>\n",
       "      <td>118.635918</td>\n",
       "      <td>127.455140</td>\n",
       "    </tr>\n",
       "    <tr>\n",
       "      <th>min</th>\n",
       "      <td>1.503960e+09</td>\n",
       "      <td>17.000000</td>\n",
       "      <td>0.010000</td>\n",
       "      <td>0.010000</td>\n",
       "      <td>0.000000</td>\n",
       "      <td>0.000000</td>\n",
       "      <td>0.000000</td>\n",
       "      <td>0.010000</td>\n",
       "      <td>0.000000</td>\n",
       "      <td>0.000000</td>\n",
       "      <td>0.000000</td>\n",
       "      <td>2.000000</td>\n",
       "      <td>0.000000</td>\n",
       "      <td>257.000000</td>\n",
       "      <td>2.000000</td>\n",
       "      <td>0.000000</td>\n",
       "      <td>1.000000</td>\n",
       "      <td>58.000000</td>\n",
       "      <td>61.000000</td>\n",
       "    </tr>\n",
       "    <tr>\n",
       "      <th>25%</th>\n",
       "      <td>3.977334e+09</td>\n",
       "      <td>5188.750000</td>\n",
       "      <td>3.592500</td>\n",
       "      <td>3.592500</td>\n",
       "      <td>0.000000</td>\n",
       "      <td>0.000000</td>\n",
       "      <td>0.000000</td>\n",
       "      <td>2.540000</td>\n",
       "      <td>0.000000</td>\n",
       "      <td>0.000000</td>\n",
       "      <td>0.000000</td>\n",
       "      <td>158.000000</td>\n",
       "      <td>631.250000</td>\n",
       "      <td>1841.000000</td>\n",
       "      <td>906.250000</td>\n",
       "      <td>15.000000</td>\n",
       "      <td>1.000000</td>\n",
       "      <td>361.000000</td>\n",
       "      <td>403.750000</td>\n",
       "    </tr>\n",
       "    <tr>\n",
       "      <th>50%</th>\n",
       "      <td>4.702922e+09</td>\n",
       "      <td>8913.000000</td>\n",
       "      <td>6.270000</td>\n",
       "      <td>6.270000</td>\n",
       "      <td>0.000000</td>\n",
       "      <td>0.570000</td>\n",
       "      <td>0.420000</td>\n",
       "      <td>3.665000</td>\n",
       "      <td>0.000000</td>\n",
       "      <td>9.000000</td>\n",
       "      <td>11.000000</td>\n",
       "      <td>208.000000</td>\n",
       "      <td>717.000000</td>\n",
       "      <td>2207.000000</td>\n",
       "      <td>983.000000</td>\n",
       "      <td>16.000000</td>\n",
       "      <td>1.000000</td>\n",
       "      <td>432.500000</td>\n",
       "      <td>463.000000</td>\n",
       "    </tr>\n",
       "    <tr>\n",
       "      <th>75%</th>\n",
       "      <td>6.962181e+09</td>\n",
       "      <td>11370.250000</td>\n",
       "      <td>8.005000</td>\n",
       "      <td>7.950000</td>\n",
       "      <td>0.000000</td>\n",
       "      <td>2.360000</td>\n",
       "      <td>1.037500</td>\n",
       "      <td>4.917500</td>\n",
       "      <td>0.000000</td>\n",
       "      <td>38.000000</td>\n",
       "      <td>26.750000</td>\n",
       "      <td>263.000000</td>\n",
       "      <td>782.750000</td>\n",
       "      <td>2920.000000</td>\n",
       "      <td>1042.000000</td>\n",
       "      <td>17.000000</td>\n",
       "      <td>1.000000</td>\n",
       "      <td>490.000000</td>\n",
       "      <td>526.000000</td>\n",
       "    </tr>\n",
       "    <tr>\n",
       "      <th>max</th>\n",
       "      <td>8.792010e+09</td>\n",
       "      <td>22770.000000</td>\n",
       "      <td>17.540001</td>\n",
       "      <td>17.540001</td>\n",
       "      <td>4.081692</td>\n",
       "      <td>12.540000</td>\n",
       "      <td>6.480000</td>\n",
       "      <td>9.480000</td>\n",
       "      <td>0.110000</td>\n",
       "      <td>210.000000</td>\n",
       "      <td>143.000000</td>\n",
       "      <td>518.000000</td>\n",
       "      <td>1265.000000</td>\n",
       "      <td>4900.000000</td>\n",
       "      <td>1398.000000</td>\n",
       "      <td>23.000000</td>\n",
       "      <td>3.000000</td>\n",
       "      <td>796.000000</td>\n",
       "      <td>961.000000</td>\n",
       "    </tr>\n",
       "  </tbody>\n",
       "</table>\n",
       "</div>"
      ],
      "text/plain": [
       "                 id    totalsteps  totaldistance  trackerdistance  \\\n",
       "count  4.100000e+02    410.000000     410.000000       410.000000   \n",
       "mean   4.994963e+09   8514.909756       6.012390         6.007366   \n",
       "std    2.060863e+09   4157.375584       3.043946         3.039279   \n",
       "min    1.503960e+09     17.000000       0.010000         0.010000   \n",
       "25%    3.977334e+09   5188.750000       3.592500         3.592500   \n",
       "50%    4.702922e+09   8913.000000       6.270000         6.270000   \n",
       "75%    6.962181e+09  11370.250000       8.005000         7.950000   \n",
       "max    8.792010e+09  22770.000000      17.540001        17.540001   \n",
       "\n",
       "       loggedactivitiesdistance  veryactivedistance  moderatelyactivedistance  \\\n",
       "count                410.000000          410.000000                410.000000   \n",
       "mean                   0.108867            1.446220                  0.743902   \n",
       "std                    0.505523            1.992591                  0.999806   \n",
       "min                    0.000000            0.000000                  0.000000   \n",
       "25%                    0.000000            0.000000                  0.000000   \n",
       "50%                    0.000000            0.570000                  0.420000   \n",
       "75%                    0.000000            2.360000                  1.037500   \n",
       "max                    4.081692           12.540000                  6.480000   \n",
       "\n",
       "       lightactivedistance  sedentaryactivedistance  veryactiveminutes  \\\n",
       "count           410.000000               410.000000         410.000000   \n",
       "mean              3.791122                 0.000927          25.046341   \n",
       "std               1.720788                 0.008685          36.218237   \n",
       "min               0.010000                 0.000000           0.000000   \n",
       "25%               2.540000                 0.000000           0.000000   \n",
       "50%               3.665000                 0.000000           9.000000   \n",
       "75%               4.917500                 0.000000          38.000000   \n",
       "max               9.480000                 0.110000         210.000000   \n",
       "\n",
       "       fairlyactiveminutes  lightlyactiveminutes  sedentaryminutes  \\\n",
       "count           410.000000            410.000000        410.000000   \n",
       "mean             17.924390            216.541463        712.100000   \n",
       "std              22.418593             86.705299        166.179395   \n",
       "min               0.000000              2.000000          0.000000   \n",
       "25%               0.000000            158.000000        631.250000   \n",
       "50%              11.000000            208.000000        717.000000   \n",
       "75%              26.750000            263.000000        782.750000   \n",
       "max             143.000000            518.000000       1265.000000   \n",
       "\n",
       "          calories  total_activity_mins  total_activity_hours  \\\n",
       "count   410.000000           410.000000            410.000000   \n",
       "mean   2389.295122           971.612195             16.195122   \n",
       "std     758.435040           167.523522              2.810385   \n",
       "min     257.000000             2.000000              0.000000   \n",
       "25%    1841.000000           906.250000             15.000000   \n",
       "50%    2207.000000           983.000000             16.000000   \n",
       "75%    2920.000000          1042.000000             17.000000   \n",
       "max    4900.000000          1398.000000             23.000000   \n",
       "\n",
       "       totalsleeprecords  totalminutesasleep  totaltimeinbed  \n",
       "count         410.000000          410.000000      410.000000  \n",
       "mean            1.119512          419.173171      458.482927  \n",
       "std             0.346636          118.635918      127.455140  \n",
       "min             1.000000           58.000000       61.000000  \n",
       "25%             1.000000          361.000000      403.750000  \n",
       "50%             1.000000          432.500000      463.000000  \n",
       "75%             1.000000          490.000000      526.000000  \n",
       "max             3.000000          796.000000      961.000000  "
      ]
     },
     "execution_count": 103,
     "metadata": {},
     "output_type": "execute_result"
    }
   ],
   "source": [
    "# Getting the summary of the dataset\n",
    "merged_data.describe()"
   ]
  },
  {
   "cell_type": "markdown",
   "id": "760abd01",
   "metadata": {},
   "source": [
    "# Share"
   ]
  },
  {
   "cell_type": "code",
   "execution_count": 81,
   "id": "0f76218a",
   "metadata": {
    "scrolled": false
   },
   "outputs": [
    {
     "data": {
      "image/png": "[encoded data removed]",
      "text/plain": [
       "<Figure size 864x432 with 1 Axes>"
      ]
     },
     "metadata": {
      "needs_background": "light"
     },
     "output_type": "display_data"
    },
    {
     "data": {
      "image/png": "[encoded data removed]",
      "text/plain": [
       "<Figure size 864x432 with 1 Axes>"
      ]
     },
     "metadata": {
      "needs_background": "light"
     },
     "output_type": "display_data"
    },
    {
     "data": {
      "image/png": "[encoded data removed]",
      "text/plain": [
       "<Figure size 864x432 with 1 Axes>"
      ]
     },
     "metadata": {
      "needs_background": "light"
     },
     "output_type": "display_data"
    }
   ],
   "source": [
    "merged_data = merged_data.groupby(merged_data.dayofweek).agg({'total_activity_hours':'sum','totalsteps':'sum','totaldistance': 'sum'}).reset_index()\n",
    "\n",
    "# Check the top breeds\n",
    "for i in ['total_activity_hours','totalsteps', 'totaldistance']:\n",
    "    fig, ax = plt.subplots(figsize = (12,6))\n",
    "    ax = sns.barplot(x = 'dayofweek', y = i, data = merged_data.sort_values(i, \\\n",
    "    ascending = False).iloc[:10], palette = 'magma')\n",
    "    ax.set_title('Total Daily Performance by'+\" \" + i, weight = 'bold')"
   ]
  },
  {
   "cell_type": "markdown",
   "id": "8b94aa2d",
   "metadata": {},
   "source": [
    "The plots above shows the daily performance of the users in terms of total time spent on work out, total distance covered and total steps taken.\n",
    "There is a direct/exact trend for total distance and total steps, however this does not translate to the total activity minutes. This could be as a result of users taking large number of steps and covering good distances within a short period of time"
   ]
  },
  {
   "cell_type": "code",
   "execution_count": 105,
   "id": "7fbcf52f",
   "metadata": {},
   "outputs": [
    {
     "data": {
      "image/png": "[encoded data removed]",
      "text/plain": [
       "<Figure size 864x432 with 1 Axes>"
      ]
     },
     "metadata": {
      "needs_background": "light"
     },
     "output_type": "display_data"
    }
   ],
   "source": [
    "plt.figure(figsize=[12,6])\n",
    "plt.scatter(data=merged_data, x='totaldistance', y='totalsteps')\n",
    "plt.xlabel('Total Distance Covered')\n",
    "plt.ylabel('Total Steps Taken')\n",
    "plt.title('Correlation between Steps Taken and Total Distance', weight='bold')\n",
    "plt.show;"
   ]
  },
  {
   "cell_type": "markdown",
   "id": "08adef81",
   "metadata": {},
   "source": [
    "This plot was done to confirm the relation between total distance and total steps and from the plot, there is a positive correlation. The spread of the plot also indicates that the users are either within the same fitness level or about the same height or a combination of both."
   ]
  },
  {
   "cell_type": "code",
   "execution_count": 97,
   "id": "294a0392",
   "metadata": {},
   "outputs": [
    {
     "data": {
      "image/png": "[encoded data removed]",
      "text/plain": [
       "<Figure size 864x432 with 2 Axes>"
      ]
     },
     "metadata": {
      "needs_background": "light"
     },
     "output_type": "display_data"
    }
   ],
   "source": [
    "# Showing the effect of steps taken on calories\n",
    "plt.figure(figsize=[12,6])\n",
    "plt.subplot(1,2,1)\n",
    "plt.scatter(data=merged_data, x='calories', y='totalsteps')\n",
    "plt.xlabel('Total Calories burnt')\n",
    "plt.ylabel('Total Steps Taken')\n",
    "plt.title('Total Steps Vs Calories', weight = 'bold')\n",
    "\n",
    "plt.subplot(1,2,2)\n",
    "plt.scatter(data= merged_data, x='calories', y='totaldistance')\n",
    "plt.xlabel('Total Calories burnt')\n",
    "plt.ylabel('Total Distance')\n",
    "plt.title('Total Distance Vs Calories', weight = 'bold')\n",
    "plt.show();"
   ]
  },
  {
   "cell_type": "markdown",
   "id": "73dc0506",
   "metadata": {},
   "source": [
    "Going forward, I chcecked for the effect of both distance covered and the steps taken on total calories burnt. Both have positive correlations indicating that the more distance covered and steps covered, the more the amount of calories burnt. "
   ]
  },
  {
   "cell_type": "code",
   "execution_count": 98,
   "id": "df70f5af",
   "metadata": {},
   "outputs": [
    {
     "data": {
      "image/png": "[encoded data removed]",
      "text/plain": [
       "<Figure size 864x432 with 2 Axes>"
      ]
     },
     "metadata": {
      "needs_background": "light"
     },
     "output_type": "display_data"
    }
   ],
   "source": [
    "# Plot comparing Very Active and Lightly Active\n",
    "plt.figure(figsize=[12,6])\n",
    "plt.subplot(1,2,1)\n",
    "plt.scatter(data=merged_data, x='calories', y='veryactiveminutes')\n",
    "plt.xlabel('Total Calories burnt')\n",
    "plt.ylabel('Very Active Minutes')\n",
    "\n",
    "plt.subplot(1,2,2)\n",
    "plt.scatter(data=merged_data, x='calories', y='lightlyactiveminutes')\n",
    "plt.xlabel('Total Calories burnt')\n",
    "plt.ylabel('Lightly Active Minutes')\n",
    "plt.show();"
   ]
  },
  {
   "cell_type": "markdown",
   "id": "90149314",
   "metadata": {},
   "source": [
    "These plots displayed the effect of activeness on calories. The plots showed that lesser time is spent to burn calories when very active compared to being lightly active. This can be attributed to the intensity of the activity."
   ]
  },
  {
   "cell_type": "code",
   "execution_count": 99,
   "id": "7de90c3f",
   "metadata": {},
   "outputs": [
    {
     "data": {
      "image/png": "[encoded data removed]",
      "text/plain": [
       "<Figure size 864x432 with 2 Axes>"
      ]
     },
     "metadata": {
      "needs_background": "light"
     },
     "output_type": "display_data"
    }
   ],
   "source": [
    "# Plot comparing Very Active and Lightly Active\n",
    "plt.figure(figsize=[12,6])\n",
    "plt.subplot(1,2,1)\n",
    "plt.scatter(data=merged_data, x='totaldistance', y='veryactiveminutes')\n",
    "plt.xlabel('Total Distance Covered (KM)')\n",
    "plt.ylabel('Very Active Minutes')\n",
    "\n",
    "plt.subplot(1,2,2)\n",
    "plt.scatter(data=merged_data, x='totaldistance', y='lightlyactiveminutes')\n",
    "plt.xlabel('Total Distance Covered (KM)')\n",
    "plt.ylabel('Lightly Active Minutes')\n",
    "plt.show();"
   ]
  },
  {
   "cell_type": "markdown",
   "id": "f35feef6",
   "metadata": {},
   "source": [
    "From the plots, it can be seen that more distance is covered in the lightly active minutes, although more time is taken. However, the very active minutes showed that a good amount of distance is covered within short time however not as much as the lightly active minutes. This can be attributed to exhausted from high intensity activity."
   ]
  },
  {
   "cell_type": "code",
   "execution_count": 100,
   "id": "5bf54365",
   "metadata": {},
   "outputs": [
    {
     "data": {
      "image/png": "[encoded data removed]",
      "text/plain": [
       "<Figure size 864x432 with 1 Axes>"
      ]
     },
     "metadata": {
      "needs_background": "light"
     },
     "output_type": "display_data"
    }
   ],
   "source": [
    "plt.figure(figsize=[12,6])\n",
    "plt.scatter(data=merged_data, x='calories', y='totalminutesasleep')\n",
    "plt.xlabel('Calories')\n",
    "plt.ylabel('Sleep Time')\n",
    "plt.title('Sleep Vs Calories', weight='bold')\n",
    "plt.show;"
   ]
  },
  {
   "cell_type": "markdown",
   "id": "8eae92fa",
   "metadata": {},
   "source": [
    "Sleep has an average effect on calories. However, it goes without saying that higher time of sleep correlates with lesser calories burnt. This could be attributed to spending more time sleeping and less time for workout."
   ]
  },
  {
   "cell_type": "code",
   "execution_count": 101,
   "id": "1b97c56d",
   "metadata": {},
   "outputs": [
    {
     "data": {
      "image/png": "[encoded data removed]",
      "text/plain": [
       "<Figure size 864x432 with 1 Axes>"
      ]
     },
     "metadata": {
      "needs_background": "light"
     },
     "output_type": "display_data"
    }
   ],
   "source": [
    "plt.figure(figsize=[12,6])\n",
    "plt.scatter(data=merged_data, x='totalminutesasleep', y='total_activity_mins')\n",
    "plt.xlabel('Sleep Time')\n",
    "plt.ylabel('Workout Time')\n",
    "plt.title('Sleep Vs Workout', weight='bold')\n",
    "plt.show;"
   ]
  },
  {
   "cell_type": "markdown",
   "id": "60e5be33",
   "metadata": {},
   "source": [
    "The previous plot hinted on the possibility of sleep time affecting amount of work out time. This plot confirms that suspicion, as it is visible to see the negative correlation between sleep and workout."
   ]
  },
  {
   "cell_type": "markdown",
   "id": "fe5b7914",
   "metadata": {},
   "source": [
    "## Act"
   ]
  },
  {
   "cell_type": "markdown",
   "id": "7dc494ba",
   "metadata": {},
   "source": [
    "### Key Findings from analysis done\n",
    "1. Taking more steps and covering more distance generally has more effect on burning calories.\n",
    "2. Engaging highly intense activity causes users to spend lesser time burning about the same amount of calories as those who engage in lighter activities but would spend longer time.\n",
    "3. Too little or too much sleep can lead to less burning of calories. Therefore, an average amount of sleep shpuld be maintained.\n",
    "\n",
    "### Recommendations for BellaBeat\n",
    "1. From the bar chart, there is a decline in number of steps are the weekends encroach. Users can be sent a reminder notification to increase their steps and maintain fitness.\n",
    "2. Standard sleep time can be recommended to users based on their data.\n",
    "3. Total number of steps to be taken by a user daily can be recommended based on their individual goals for calories to be burned.\n",
    "\n",
    "## Note\n",
    "The available dataset was quite small and thus limited the analysis. A larger dataset would have created room for better insight."
   ]
  }
 ],
 "metadata": {
  "kernelspec": {
   "display_name": "Python 3 (ipykernel)",
   "language": "python",
   "name": "python3"
  },
  "language_info": {
   "codemirror_mode": {
    "name": "ipython",
    "version": 3
   },
   "file_extension": ".py",
   "mimetype": "text/x-python",
   "name": "python",
   "nbconvert_exporter": "python",
   "pygments_lexer": "ipython3",
   "version": "3.9.12"
  }
 },
 "nbformat": 4,
 "nbformat_minor": 5
}
